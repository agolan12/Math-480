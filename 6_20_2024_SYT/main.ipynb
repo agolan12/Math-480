{
 "cells": [
  {
   "cell_type": "markdown",
   "metadata": {},
   "source": [
    "# Imports"
   ]
  },
  {
   "cell_type": "code",
   "execution_count": 1,
   "metadata": {},
   "outputs": [
    {
     "data": {
      "text/plain": [
       "<module 'SYT' from '/Users/Assaf/Math-480/6_20_2024_SYT/SYT.py'>"
      ]
     },
     "execution_count": 1,
     "metadata": {},
     "output_type": "execute_result"
    }
   ],
   "source": [
    "import importlib\n",
    "import SYT\n",
    "import matplotlib.pyplot as plt\n",
    "import time\n",
    "importlib.reload(SYT)"
   ]
  },
  {
   "cell_type": "markdown",
   "metadata": {},
   "source": [
    "## SYT Helper Functions.\n",
    "Implement the functions `is_valid_SYT` and `reshape_perm` then run this cell to test your helper functions. "
   ]
  },
  {
   "cell_type": "code",
   "execution_count": 9,
   "metadata": {},
   "outputs": [
    {
     "name": "stdout",
     "output_type": "stream",
     "text": [
      "True\n",
      "False\n",
      "True\n",
      "((1, 2, 3), (4, 5), (6,))\n",
      "((1, 2, 3), (4, 5, 6))\n",
      "((1, 2), (3, 4), (5, 6))\n"
     ]
    }
   ],
   "source": [
    "print(SYT.is_valid_SYT(((1, 2, 3), (4, 5, 6), (7, 8, 9)))) # True\n",
    "print(SYT.is_valid_SYT(((1, 2, 3), (5, 4), (6,)))) # False\n",
    "print(SYT.is_valid_SYT(((1, 2, 3), (4, 5)))) # True\n",
    "\n",
    "print(SYT.reshape_perm((1, 2, 3, 4, 5, 6), (3, 2, 1))) # ((1, 2, 3), (4, 5), (6,))\n",
    "print(SYT.reshape_perm((1, 2, 3, 4, 5, 6), (3, 3))) # ((1, 2, 3), (4, 5, 6))\n",
    "print(SYT.reshape_perm((1, 2, 3, 4, 5, 6), (2, 2, 2))) # ((1, 2, 3, 4), (5, 6)"
   ]
  },
  {
   "cell_type": "markdown",
   "metadata": {},
   "source": [
    "# Generate all SYTs\n",
    "Implement `SYTs` and generate all valid SYTs for the following shapes:\n",
    "- (4,3,2,1)\n",
    "- (2,2)\n",
    "- (3,3)\n",
    "- (4,4)\n",
    "- (5,5)\n",
    "\n",
    "Save your SYTs in the `data` subfolder. For example, the SYTs of shape (4,3,2,1) are saved in `data/SYTs_4_3_2_1.txt`.\n",
    "\n",
    "What do you notice about SYTs of shape (n,n)? Write your observation in this cell here:\n"
   ]
  },
  {
   "cell_type": "code",
   "execution_count": 10,
   "metadata": {},
   "outputs": [
    {
     "data": {
      "text/plain": [
       "'\\nThe first and last terms are always 1 and 10, respectively. there are also much less squares\\nwhen the rows are the same lengths. (4,3,2,1) has less boxes then (5,5), but many more permutations.\\n'"
      ]
     },
     "execution_count": 10,
     "metadata": {},
     "output_type": "execute_result"
    }
   ],
   "source": [
    "# Generate SYTs\n",
    "shapes = [(4,3,2,1), (2,2), (3,3), (4,4), (5,5)]\n",
    "for shape in shapes:\n",
    "    with open(f'data/SYT{shape}.txt', 'w') as f:\n",
    "        f.write(str(SYT.SYTs(shape)))\n",
    "\n",
    "\n",
    "\"\"\"\n",
    "The first and last terms are always 1 and 10, respectively. there are also much less squares\n",
    "when the rows are the same lengths. (4,3,2,1) has less boxes then (5,5), but many more permutations.\n",
    "\"\"\""
   ]
  },
  {
   "cell_type": "markdown",
   "metadata": {},
   "source": [
    "# Generating Random SYTs\n",
    "Implement `random_SYT` and `random_SYT_2` and compare the efficacy on the shape (2,2,2).\n",
    "\n",
    "Print out how long it takes to generate 10000 samples using each function and compare the distributions to the uniform distribution.\n",
    "\n",
    "Plot the distributions using matplotlib and save them in the `figures` subfolder."
   ]
  },
  {
   "cell_type": "code",
   "execution_count": 2,
   "metadata": {},
   "outputs": [
    {
     "name": "stdout",
     "output_type": "stream",
     "text": [
      "5.564138889312744\n"
     ]
    },
    {
     "ename": "AttributeError",
     "evalue": "module 'SYT' has no attribute 'random_SYT2'",
     "output_type": "error",
     "traceback": [
      "\u001b[0;31m---------------------------------------------------------------------------\u001b[0m",
      "\u001b[0;31mAttributeError\u001b[0m                            Traceback (most recent call last)",
      "Cell \u001b[0;32mIn[2], line 16\u001b[0m\n\u001b[1;32m     14\u001b[0m start_time_SYT2 \u001b[38;5;241m=\u001b[39m time\u001b[38;5;241m.\u001b[39mtime()\n\u001b[1;32m     15\u001b[0m \u001b[38;5;28;01mfor\u001b[39;00m i \u001b[38;5;129;01min\u001b[39;00m \u001b[38;5;28mrange\u001b[39m(\u001b[38;5;241m10000\u001b[39m):\n\u001b[0;32m---> 16\u001b[0m   distribution2[\u001b[43mSYT\u001b[49m\u001b[38;5;241;43m.\u001b[39;49m\u001b[43mrandom_SYT2\u001b[49m(shape)] \u001b[38;5;241m+\u001b[39m\u001b[38;5;241m=\u001b[39m \u001b[38;5;241m1\u001b[39m\n\u001b[1;32m     17\u001b[0m end_time_SYT2 \u001b[38;5;241m=\u001b[39m time\u001b[38;5;241m.\u001b[39mtime()\n\u001b[1;32m     18\u001b[0m \u001b[38;5;28mprint\u001b[39m(end_time_SYT2 \u001b[38;5;241m-\u001b[39m start_time_SYT2)\n",
      "\u001b[0;31mAttributeError\u001b[0m: module 'SYT' has no attribute 'random_SYT2'"
     ]
    },
    {
     "data": {
      "image/png": "[encoded data removed]",
      "text/plain": [
       "<Figure size 640x480 with 1 Axes>"
      ]
     },
     "metadata": {},
     "output_type": "display_data"
    }
   ],
   "source": [
    "shape = (2,2,2)\n",
    "import time\n",
    "import os\n",
    "\n",
    "start_time_SYT = time.time()\n",
    "distribution = {syt: 0 for syt in SYT.SYTs(shape)}\n",
    "for i in range(10000):\n",
    "  distribution[SYT.random_SYT(shape)] += 1\n",
    "end_time_SYT = time.time()\n",
    "print(end_time_SYT - start_time_SYT)\n",
    "plt.plot(range(1,len(distribution) + 1), distribution.values(), label = \"random_SYT\")\n",
    "\n",
    "distribution2 = {syt: 0 for syt in SYT.SYTs(shape)}\n",
    "start_time_SYT2 = time.time()\n",
    "for i in range(10000):\n",
    "  distribution2[SYT.random_SYT_2(shape)] += 1\n",
    "end_time_SYT2 = time.time()\n",
    "print(end_time_SYT2 - start_time_SYT2)\n",
    "plt.plot(range(1,len(distribution2) + 1), distribution2.values(), label = \"random_SYT2\")\n",
    "\n",
    "if not os.path.exists('figures'):\n",
    "  os.makedirs('figures')\n",
    "\n",
    "plt.savefig(f'figures/SYT{shape}.png')\n",
    "plt.legend()\n",
    "plt.show()"
   ]
  }
 ],
 "metadata": {
  "kernelspec": {
   "display_name": "Python 3",
   "language": "python",
   "name": "python3"
  },
  "language_info": {
   "codemirror_mode": {
    "name": "ipython",
    "version": 3
   },
   "file_extension": ".py",
   "mimetype": "text/x-python",
   "name": "python",
   "nbconvert_exporter": "python",
   "pygments_lexer": "ipython3",
   "version": "3.12.4"
  }
 },
 "nbformat": 4,
 "nbformat_minor": 2
}
