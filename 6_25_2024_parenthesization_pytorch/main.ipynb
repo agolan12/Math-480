{
 "cells": [
  {
   "cell_type": "markdown",
   "metadata": {},
   "source": [
    "# Imports"
   ]
  },
  {
   "cell_type": "code",
   "execution_count": 1,
   "metadata": {},
   "outputs": [],
   "source": [
    "from torch.utils.data import DataLoader, random_split\n",
    "import torch\n",
    "from data import ParenthesizationDataset, ParenthesizationModel\n",
    "from train import train_one_epoch, evaluate_model\n",
    "import matplotlib.pyplot as plt\n",
    "import os"
   ]
  },
  {
   "cell_type": "markdown",
   "metadata": {},
   "source": [
    "# Initialization\n",
    "Set the parameters here for training and initialize the train/test datasets, data loaders, model, loss function and optimizer."
   ]
  },
  {
   "cell_type": "code",
   "execution_count": 2,
   "metadata": {},
   "outputs": [],
   "source": [
    "n = 7\n",
    "epochs = 50\n",
    "train_split, test_split = 0.8, 0.2\n",
    "learning_rate = 0.001\n",
    "momentum = 0.9\n",
    "batch_size = 32\n",
    "\n",
    "# TODO: Create the datasets, model, loss function, optimizer, and data loader. \n",
    "model = ParenthesizationModel(n)\n",
    "train_dataset = ParenthesizationDataset(n)\n",
    "test_dataset = ParenthesizationDataset(n)\n",
    "train_dataloader = DataLoader(train_dataset, batch_size, shuffle=True) \n",
    "test_dataloader = DataLoader(test_dataset, batch_size, shuffle=False)\n",
    "loss_fn = torch.nn.CrossEntropyLoss()\n",
    "optimizer = torch.optim.SGD(model.parameters(), lr=learning_rate, momentum=momentum)\n",
    "\n",
    "\n",
    "\n",
    "\n"
   ]
  },
  {
   "cell_type": "markdown",
   "metadata": {},
   "source": [
    "# Training the model\n",
    "* Call `train_one_epoch` repeatedly to train the model once over the entire training dataset.\n",
    "* Print out the epoch number and loss after each training call to verify that the loss is going down.\n",
    "* Record the loss values in a list so that it can be plotted in the cell below.\n",
    "* After training, call `evaluate_model` to get the confusion matrix.\n",
    "* Save the model as `models/linear_model_{n}.pt`."
   ]
  },
  {
   "cell_type": "code",
   "execution_count": 3,
   "metadata": {},
   "outputs": [
    {
     "name": "stdout",
     "output_type": "stream",
     "text": [
      "  batch 27 loss: 0.017971296906471253\n",
      "Epoch:  0  Loss:  0.017971296906471253\n",
      "  batch 27 loss: 0.016779600620269775\n",
      "Epoch:  1  Loss:  0.016779600620269775\n",
      "  batch 27 loss: 0.01581892830133438\n",
      "Epoch:  2  Loss:  0.01581892830133438\n",
      "  batch 27 loss: 0.015010293841362\n",
      "Epoch:  3  Loss:  0.015010293841362\n",
      "  batch 27 loss: 0.01429204946756363\n",
      "Epoch:  4  Loss:  0.01429204946756363\n",
      "  batch 27 loss: 0.013701409131288528\n",
      "Epoch:  5  Loss:  0.013701409131288528\n",
      "  batch 27 loss: 0.013169101566076279\n",
      "Epoch:  6  Loss:  0.013169101566076279\n",
      "  batch 27 loss: 0.012717493861913681\n",
      "Epoch:  7  Loss:  0.012717493861913681\n",
      "  batch 27 loss: 0.01231411001086235\n",
      "Epoch:  8  Loss:  0.01231411001086235\n",
      "  batch 27 loss: 0.011955810546875\n",
      "Epoch:  9  Loss:  0.011955810546875\n",
      "  batch 27 loss: 0.01165015235543251\n",
      "Epoch:  10  Loss:  0.01165015235543251\n",
      "  batch 27 loss: 0.011351397067308425\n",
      "Epoch:  11  Loss:  0.011351397067308425\n",
      "  batch 27 loss: 0.011091988384723663\n",
      "Epoch:  12  Loss:  0.011091988384723663\n",
      "  batch 27 loss: 0.010860072612762452\n",
      "Epoch:  13  Loss:  0.010860072612762452\n",
      "  batch 27 loss: 0.010650210678577424\n",
      "Epoch:  14  Loss:  0.010650210678577424\n",
      "  batch 27 loss: 0.010438626259565353\n",
      "Epoch:  15  Loss:  0.010438626259565353\n",
      "  batch 27 loss: 0.010266995042562484\n",
      "Epoch:  16  Loss:  0.010266995042562484\n",
      "  batch 27 loss: 0.010091558396816254\n",
      "Epoch:  17  Loss:  0.010091558396816254\n",
      "  batch 27 loss: 0.009931064993143082\n",
      "Epoch:  18  Loss:  0.009931064993143082\n",
      "  batch 27 loss: 0.009791877120733261\n",
      "Epoch:  19  Loss:  0.009791877120733261\n",
      "  batch 27 loss: 0.009648501724004745\n",
      "Epoch:  20  Loss:  0.009648501724004745\n",
      "  batch 27 loss: 0.00952669507265091\n",
      "Epoch:  21  Loss:  0.00952669507265091\n",
      "  batch 27 loss: 0.009431997746229171\n",
      "Epoch:  22  Loss:  0.009431997746229171\n",
      "  batch 27 loss: 0.009309948936104774\n",
      "Epoch:  23  Loss:  0.009309948936104774\n",
      "  batch 27 loss: 0.009218799784779548\n",
      "Epoch:  24  Loss:  0.009218799784779548\n",
      "  batch 27 loss: 0.009121166348457336\n",
      "Epoch:  25  Loss:  0.009121166348457336\n",
      "  batch 27 loss: 0.009045361548662185\n",
      "Epoch:  26  Loss:  0.009045361548662185\n",
      "  batch 27 loss: 0.008930828362703324\n",
      "Epoch:  27  Loss:  0.008930828362703324\n",
      "  batch 27 loss: 0.008864188596606254\n",
      "Epoch:  28  Loss:  0.008864188596606254\n",
      "  batch 27 loss: 0.00878931164741516\n",
      "Epoch:  29  Loss:  0.00878931164741516\n",
      "  batch 27 loss: 0.008707118794322014\n",
      "Epoch:  30  Loss:  0.008707118794322014\n",
      "  batch 27 loss: 0.008627508848905563\n",
      "Epoch:  31  Loss:  0.008627508848905563\n",
      "  batch 27 loss: 0.008551288709044456\n",
      "Epoch:  32  Loss:  0.008551288709044456\n",
      "  batch 27 loss: 0.008508260786533356\n",
      "Epoch:  33  Loss:  0.008508260786533356\n",
      "  batch 27 loss: 0.008435156524181366\n",
      "Epoch:  34  Loss:  0.008435156524181366\n",
      "  batch 27 loss: 0.008368379458785057\n",
      "Epoch:  35  Loss:  0.008368379458785057\n",
      "  batch 27 loss: 0.0083231241106987\n",
      "Epoch:  36  Loss:  0.0083231241106987\n",
      "  batch 27 loss: 0.008282184585928916\n",
      "Epoch:  37  Loss:  0.008282184585928916\n",
      "  batch 27 loss: 0.008237043663859368\n",
      "Epoch:  38  Loss:  0.008237043663859368\n",
      "  batch 27 loss: 0.008161242127418518\n",
      "Epoch:  39  Loss:  0.008161242127418518\n",
      "  batch 27 loss: 0.008109748780727387\n",
      "Epoch:  40  Loss:  0.008109748780727387\n",
      "  batch 27 loss: 0.008082354962825776\n",
      "Epoch:  41  Loss:  0.008082354962825776\n",
      "  batch 27 loss: 0.008048408836126328\n",
      "Epoch:  42  Loss:  0.008048408836126328\n",
      "  batch 27 loss: 0.008016273289918899\n",
      "Epoch:  43  Loss:  0.008016273289918899\n",
      "  batch 27 loss: 0.007945162773132324\n",
      "Epoch:  44  Loss:  0.007945162773132324\n",
      "  batch 27 loss: 0.007917736917734145\n",
      "Epoch:  45  Loss:  0.007917736917734145\n",
      "  batch 27 loss: 0.00788362205028534\n",
      "Epoch:  46  Loss:  0.00788362205028534\n",
      "  batch 27 loss: 0.007824208304286004\n",
      "Epoch:  47  Loss:  0.007824208304286004\n",
      "  batch 27 loss: 0.007800051674246788\n",
      "Epoch:  48  Loss:  0.007800051674246788\n",
      "  batch 27 loss: 0.007786556199193001\n",
      "Epoch:  49  Loss:  0.007786556199193001\n",
      "[0.017971296906471253, 0.016779600620269775, 0.01581892830133438, 0.015010293841362, 0.01429204946756363, 0.013701409131288528, 0.013169101566076279, 0.012717493861913681, 0.01231411001086235, 0.011955810546875, 0.01165015235543251, 0.011351397067308425, 0.011091988384723663, 0.010860072612762452, 0.010650210678577424, 0.010438626259565353, 0.010266995042562484, 0.010091558396816254, 0.009931064993143082, 0.009791877120733261, 0.009648501724004745, 0.00952669507265091, 0.009431997746229171, 0.009309948936104774, 0.009218799784779548, 0.009121166348457336, 0.009045361548662185, 0.008930828362703324, 0.008864188596606254, 0.00878931164741516, 0.008707118794322014, 0.008627508848905563, 0.008551288709044456, 0.008508260786533356, 0.008435156524181366, 0.008368379458785057, 0.0083231241106987, 0.008282184585928916, 0.008237043663859368, 0.008161242127418518, 0.008109748780727387, 0.008082354962825776, 0.008048408836126328, 0.008016273289918899, 0.007945162773132324, 0.007917736917734145, 0.00788362205028534, 0.007824208304286004, 0.007800051674246788, 0.007786556199193001]\n"
     ]
    },
    {
     "name": "stderr",
     "output_type": "stream",
     "text": [
      "/Users/Assaf/Math-480/6_25_2024_parenthesization_pytorch/train.py:65: UserWarning: Implicit dimension choice for softmax has been deprecated. Change the call to include dim=X as an argument.\n",
      "  prob = torch.nn.functional.softmax(outputs)\n"
     ]
    }
   ],
   "source": [
    "losses = []\n",
    "for epoch in range(epochs):\n",
    "    # TODO\n",
    "    loss = train_one_epoch(train_dataloader, model, loss_fn, optimizer)\n",
    "    print(\"Epoch: \", epoch, \" Loss: \", loss)\n",
    "    losses.append(loss)\n",
    "print(losses)\n",
    "evaluate_model(model, test_dataset)\n",
    "if not os.path.exists(\"models\"):\n",
    "    os.mkdir(\"models\")\n",
    "torch.save(model.state_dict(), \"models/linear_model_7.pt\")\n",
    "\n",
    "\n",
    "\n"
   ]
  },
  {
   "cell_type": "markdown",
   "metadata": {},
   "source": [
    "# Plot the loss curve\n",
    "Plot the loss curve with appropriate figure title and axis labels. Save the resulting figure in `figures/loss_curve_{n}.png`."
   ]
  },
  {
   "cell_type": "code",
   "execution_count": 4,
   "metadata": {},
   "outputs": [
    {
     "data": {
      "image/png": "[encoded data removed]",
      "text/plain": [
       "<Figure size 640x480 with 1 Axes>"
      ]
     },
     "metadata": {},
     "output_type": "display_data"
    }
   ],
   "source": [
    "if not os.path.exists(\"figures\"):\n",
    "    os.mkdir(\"figures\")\n",
    "plt.plot(losses)\n",
    "plt.xlabel(\"Epoch\")\n",
    "plt.ylabel(\"Loss\")\n",
    "plt.savefig(\"figures/loss_curve_7.png\")"
   ]
  },
  {
   "cell_type": "markdown",
   "metadata": {},
   "source": [
    "# Analyze accuracy using the confusion matrix\n",
    "- Print out the accuracy within each of the prediction classes.\n",
    "- Print out the size of each prediction class.\n",
    "- Print out the overall accuracy."
   ]
  },
  {
   "cell_type": "code",
   "execution_count": 5,
   "metadata": {},
   "outputs": [
    {
     "name": "stdout",
     "output_type": "stream",
     "text": [
      "Positive accuracy: % 84.14918414918415\n",
      "Negative accuracy: % 100.0\n",
      "Size true positive:  361\n",
      "Size true negative:  429\n",
      "Size false positive:  68\n",
      "Size false negative:  0\n",
      "Overall accuracy: % 92.07459207459208\n"
     ]
    }
   ],
   "source": [
    "confusion_matrix = evaluate_model(model, test_dataset)\n",
    "print(\"Positive accuracy: %\", 100 * confusion_matrix[0][0] / (confusion_matrix[0][0] + confusion_matrix[0][1]))\n",
    "print(\"Negative accuracy: %\", 100 * confusion_matrix[1][1] / (confusion_matrix[1][0] + confusion_matrix[1][1]))\n",
    "print(\"Size true positive: \", confusion_matrix[0][0])\n",
    "print(\"Size true negative: \", confusion_matrix[1][1])\n",
    "print(\"Size false positive: \", confusion_matrix[0][1])\n",
    "print(\"Size false negative: \", confusion_matrix[1][0])\n",
    "print(\"Overall accuracy: %\" , 100 * (confusion_matrix[0][0] + confusion_matrix[1][1]) / (confusion_matrix[0][0] + confusion_matrix[1][1] + confusion_matrix[0][1] + confusion_matrix[1][0]))\n"
   ]
  },
  {
   "cell_type": "markdown",
   "metadata": {},
   "source": [
    "# Plot the model weights\n",
    "Can you interpret what the model is doing? Plot the model weights using `plt.imshow()` to get a heatmap. Choose a colormap from https://matplotlib.org/stable/users/explain/colors/colormaps.html that you prefer. I default to the `bwr` colormap where negative values are blue, positive value are red, and values close to zero are white."
   ]
  },
  {
   "cell_type": "code",
   "execution_count": 6,
   "metadata": {},
   "outputs": [
    {
     "data": {
      "text/plain": [
       "<matplotlib.image.AxesImage at 0x133e52000>"
      ]
     },
     "execution_count": 6,
     "metadata": {},
     "output_type": "execute_result"
    },
    {
     "data": {
      "image/png": "[encoded data removed]",
      "text/plain": [
       "<Figure size 640x480 with 1 Axes>"
      ]
     },
     "metadata": {},
     "output_type": "display_data"
    }
   ],
   "source": [
    "plt.imshow(model.fc.weight.detach().numpy(), cmap=\"bwr\")\n"
   ]
  },
  {
   "cell_type": "markdown",
   "metadata": {},
   "source": [
    "# \"Translate\" the model into code.\n",
    "Implement `simple_evaluate` which condenses the model's \"logic\" into a single if-else statement. Run this evaluation function over the test set to produce a new confusion matrix and see how it performs compared to the model you train."
   ]
  },
  {
   "cell_type": "code",
   "execution_count": 7,
   "metadata": {},
   "outputs": [
    {
     "name": "stdout",
     "output_type": "stream",
     "text": [
      "Positive accuracy: % 78.78787878787878\n",
      "Negative accuracy: % 100.0\n",
      "Size true positive:  338\n",
      "Size true negative:  429\n",
      "Size false positive:  91\n",
      "Size false negative:  0\n",
      "Overall accuracy: % 89.39393939393939\n"
     ]
    }
   ],
   "source": [
    "# Try to condense the linear model down into a single if-else statement. \n",
    "def simple_evaluate(input):\n",
    "    if input[0] == 1.0 or input[-1] == 1.0:\n",
    "        return 0\n",
    "    else:\n",
    "        return 1\n",
    "    \n",
    "confusion_matrix = [[0, 0], [0, 0]]\n",
    "for data in test_dataset:\n",
    "    inputs, labels = data\n",
    "    prediction = simple_evaluate(inputs)\n",
    "    confusion_matrix[labels][prediction] += 1\n",
    "\n",
    "print(\"Positive accuracy: %\", 100 * confusion_matrix[0][0] / (confusion_matrix[0][0] + confusion_matrix[0][1]))\n",
    "print(\"Negative accuracy: %\", 100 * confusion_matrix[1][1] / (confusion_matrix[1][0] + confusion_matrix[1][1]))\n",
    "print(\"Size true positive: \", confusion_matrix[0][0])\n",
    "print(\"Size true negative: \", confusion_matrix[1][1])\n",
    "print(\"Size false positive: \", confusion_matrix[0][1])\n",
    "print(\"Size false negative: \", confusion_matrix[1][0])\n",
    "print(\"Overall accuracy: %\" , 100 * (confusion_matrix[0][0] + confusion_matrix[1][1]) / (confusion_matrix[0][0] + confusion_matrix[1][1] + confusion_matrix[0][1] + confusion_matrix[1][0]))\n",
    "\n",
    " \n",
    "\n",
    "\n",
    "\n",
    "\n",
    "    "
   ]
  }
 ],
 "metadata": {
  "kernelspec": {
   "display_name": "Python 3",
   "language": "python",
   "name": "python3"
  },
  "language_info": {
   "codemirror_mode": {
    "name": "ipython",
    "version": 3
   },
   "file_extension": ".py",
   "mimetype": "text/x-python",
   "name": "python",
   "nbconvert_exporter": "python",
   "pygments_lexer": "ipython3",
   "version": "3.12.4"
  }
 },
 "nbformat": 4,
 "nbformat_minor": 2
}
